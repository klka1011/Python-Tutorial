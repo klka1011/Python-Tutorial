{
 "cells": [
  {
   "cell_type": "markdown",
   "metadata": {},
   "source": [
    "# Software Engineering - Summer Term 2024\n",
    "##### Hochschule Karlsruhe\n",
    "##### Tutor Paul Löhr"
   ]
  },
  {
   "cell_type": "markdown",
   "metadata": {},
   "source": [
    "## Python Tutorial\n",
    "\n",
    "\n",
    "```\n",
    "> Instead of reading a static tutorial we will work and execute code to learn and explore Python concepts. \n",
    "```\n",
    "The example form below are adapted from _Lectures on scientific computing with Python_ by _jrjohansson_"
   ]
  },
  {
   "cell_type": "markdown",
   "metadata": {},
   "source": [
    "#### Why Python\n",
    "\n",
    "Python is a modern, general-purpose, object-oriented, high-level programming language. Python code is usually stored in text files with the file ending `.py`:\n",
    "\n",
    "__Python characteristics:__\n",
    "\n",
    "* Easy-to-read and intuitive code, easy-to-learn minimalistic syntax, maintainability scales well with size of projects.\n",
    "* Fewer lines of code, fewer bugs, easier to maintain.\n",
    "* dynamically typed: No need to define the type of variables, function arguments or return types.\n",
    "* automatic memory management: No need to explicitly allocate and deallocate memory for variables and data arrays. No memory leak bugs.\n",
    "* interpreted: No need to compile the code. The Python interpreter reads and executes the python code directly.\n",
    "\n",
    "__Basic Syntax:__\n",
    "\n",
    "No spaces or tab characters allowed at the start of a statement: Indentation plays a special role in Python (see the section on control statements). For now simply ensure that all statements start at the beginning of the line. The `#` character indicates that the rest of the line is a comment\n"
   ]
  },
  {
   "cell_type": "markdown",
   "metadata": {},
   "source": [
    "__Zen of Python__"
   ]
  },
  {
   "cell_type": "code",
   "metadata": {
    "ExecuteTime": {
     "end_time": "2025-10-06T09:06:08.218904Z",
     "start_time": "2025-10-06T09:06:08.214584Z"
    }
   },
   "source": [
    "import this"
   ],
   "outputs": [
    {
     "name": "stdout",
     "output_type": "stream",
     "text": [
      "The Zen of Python, by Tim Peters\n",
      "\n",
      "Beautiful is better than ugly.\n",
      "Explicit is better than implicit.\n",
      "Simple is better than complex.\n",
      "Complex is better than complicated.\n",
      "Flat is better than nested.\n",
      "Sparse is better than dense.\n",
      "Readability counts.\n",
      "Special cases aren't special enough to break the rules.\n",
      "Although practicality beats purity.\n",
      "Errors should never pass silently.\n",
      "Unless explicitly silenced.\n",
      "In the face of ambiguity, refuse the temptation to guess.\n",
      "There should be one-- and preferably only one --obvious way to do it.\n",
      "Although that way may not be obvious at first unless you're Dutch.\n",
      "Now is better than never.\n",
      "Although never is often better than *right* now.\n",
      "If the implementation is hard to explain, it's a bad idea.\n",
      "If the implementation is easy to explain, it may be a good idea.\n",
      "Namespaces are one honking great idea -- let's do more of those!\n"
     ]
    }
   ],
   "execution_count": 14
  },
  {
   "cell_type": "markdown",
   "metadata": {},
   "source": [
    "---"
   ]
  },
  {
   "cell_type": "markdown",
   "metadata": {},
   "source": [
    "### Basics in Python \n",
    "```\n",
    "> Variables in python, variables can be declared and values can be assigned to it as follows:\n",
    "```"
   ]
  },
  {
   "cell_type": "code",
   "metadata": {
    "ExecuteTime": {
     "end_time": "2025-10-06T09:06:12.290818Z",
     "start_time": "2025-10-06T09:06:12.288780Z"
    }
   },
   "source": [
    "print('Hello World!')"
   ],
   "outputs": [
    {
     "name": "stdout",
     "output_type": "stream",
     "text": [
      "Hello World!\n"
     ]
    }
   ],
   "execution_count": 15
  },
  {
   "cell_type": "code",
   "metadata": {
    "ExecuteTime": {
     "end_time": "2025-10-06T09:06:13.311570Z",
     "start_time": "2025-10-06T09:06:13.309284Z"
    }
   },
   "source": [
    "x = 5\n",
    "y = 3.12\n",
    "z = True\n",
    "name = 'Max Musterman'"
   ],
   "outputs": [],
   "execution_count": 16
  },
  {
   "cell_type": "code",
   "metadata": {
    "ExecuteTime": {
     "end_time": "2025-10-06T09:06:14.795940Z",
     "start_time": "2025-10-06T09:06:14.793810Z"
    }
   },
   "source": [
    "print(f'{x=}, {y=}, {z=}, {name=}')"
   ],
   "outputs": [
    {
     "name": "stdout",
     "output_type": "stream",
     "text": [
      "x=5, y=3.12, z=True, name='Max Musterman'\n"
     ]
    }
   ],
   "execution_count": 17
  },
  {
   "cell_type": "markdown",
   "metadata": {},
   "source": [
    "```\n",
    "> Check the type of a variable \n",
    "```"
   ]
  },
  {
   "cell_type": "code",
   "metadata": {
    "ExecuteTime": {
     "end_time": "2025-10-06T09:06:16.271737Z",
     "start_time": "2025-10-06T09:06:16.269413Z"
    }
   },
   "source": [
    "print(type(x))\n",
    "print(type(y))\n",
    "print(type(z))\n",
    "print(type(name))"
   ],
   "outputs": [
    {
     "name": "stdout",
     "output_type": "stream",
     "text": [
      "<class 'int'>\n",
      "<class 'float'>\n",
      "<class 'bool'>\n",
      "<class 'str'>\n"
     ]
    }
   ],
   "execution_count": 18
  },
  {
   "cell_type": "markdown",
   "metadata": {},
   "source": [
    "```\n",
    "> Arithmetic Operators, Relational Operators, Bitwise Operators\n",
    "```\n",
    "\n",
    "| Symbol | Task Performed |\n",
    "|----|---|\n",
    "| +  | Addition |\n",
    "| -  | Subtraction|\n",
    "| /  | division |\n",
    "| %  | mod |\n",
    "| *  | multiplication |\n",
    "| //  | floor division |\n",
    "| **  | to the power of |\n",
    "| == | True, if it is equal |\n",
    "| !=  | True, if not equal to |\n",
    "| < | less than |\n",
    "| > | greater than |\n",
    "| <=  | less than or equal to |\n",
    "| >=  | greater than or equal to |\n",
    "| `and`  | Logical And |\n",
    "| `or`  | Logical OR |\n",
    "| `not`  | Not |\n",
    "| ~  | Negate |\n",
    "| ^  | XOR |\n",
    "| >>  | Right shift |\n",
    "| <<  | Left shift |\n"
   ]
  },
  {
   "cell_type": "code",
   "metadata": {
    "ExecuteTime": {
     "end_time": "2025-10-06T09:06:20.018345Z",
     "start_time": "2025-10-06T09:06:20.015593Z"
    }
   },
   "source": [
    "print(1+1)\n",
    "print(1-1)\n",
    "print(10/2)\n",
    "print(10%3)\n",
    "print(3*3)\n",
    "print(10//3)\n",
    "print(10**2)\n",
    "print(1==1)\n",
    "print(1!=1)"
   ],
   "outputs": [
    {
     "name": "stdout",
     "output_type": "stream",
     "text": [
      "2\n",
      "0\n",
      "5.0\n",
      "1\n",
      "9\n",
      "3\n",
      "100\n",
      "True\n",
      "False\n"
     ]
    }
   ],
   "execution_count": 19
  },
  {
   "cell_type": "markdown",
   "metadata": {},
   "source": [
    "### Your 1. Task\n",
    "```\n",
    "> Compute the value of the following polynomial and print the results to the screen:\n",
    "```\n",
    "\n",
    "* $y=ax^2 + bx + c$ with  $x=0$ and $x=20$ using $a=1, b=1, c=−6 $"
   ]
  },
  {
   "cell_type": "code",
   "metadata": {
    "ExecuteTime": {
     "end_time": "2025-10-06T09:06:23.108009Z",
     "start_time": "2025-10-06T09:06:23.105331Z"
    }
   },
   "source": [
    "a = 1\n",
    "b = 1\n",
    "c = -6\n",
    "\n",
    "x = 0\n",
    "y = a * x ** 2 + b * x + c\n",
    "\n",
    "print(f'y evaluated at x = {x} is {y}')\n",
    "\n",
    "x = 20\n",
    "y = a * x ** 2 + b * x + c\n",
    "print(f'y evaluated at x = {x} is {y}')"
   ],
   "outputs": [
    {
     "name": "stdout",
     "output_type": "stream",
     "text": [
      "y evaluated at x = 0 is -6\n",
      "y evaluated at x = 20 is 414\n"
     ]
    }
   ],
   "execution_count": 20
  },
  {
   "cell_type": "markdown",
   "metadata": {},
   "source": [
    "### Lists\n",
    "Lists are the most commonly used data structure. Think of it as a sequence of data that is enclosed in square brackets and data are separated by a comma. Lists are declared by just equating a variable to `[ ]` or list."
   ]
  },
  {
   "cell_type": "code",
   "metadata": {
    "ExecuteTime": {
     "end_time": "2025-10-06T09:06:25.582479Z",
     "start_time": "2025-10-06T09:06:25.579144Z"
    }
   },
   "source": [
    "a = []\n",
    "type(a)"
   ],
   "outputs": [
    {
     "data": {
      "text/plain": [
       "list"
      ]
     },
     "execution_count": 21,
     "metadata": {},
     "output_type": "execute_result"
    }
   ],
   "execution_count": 21
  },
  {
   "cell_type": "code",
   "metadata": {
    "ExecuteTime": {
     "end_time": "2025-10-06T09:06:27.240718Z",
     "start_time": "2025-10-06T09:06:27.238388Z"
    }
   },
   "source": [
    "x = ['apple', 'orange']\n",
    "print(x)"
   ],
   "outputs": [
    {
     "name": "stdout",
     "output_type": "stream",
     "text": [
      "['apple', 'orange']\n"
     ]
    }
   ],
   "execution_count": 22
  },
  {
   "cell_type": "markdown",
   "metadata": {},
   "source": [
    "```\n",
    "> Indexing: Indexing starts from 0 and can also be done in reverse order\n",
    "```"
   ]
  },
  {
   "cell_type": "code",
   "metadata": {
    "ExecuteTime": {
     "end_time": "2025-10-06T09:06:28.953539Z",
     "start_time": "2025-10-06T09:06:28.950666Z"
    }
   },
   "source": [
    "print(x[0])\n",
    "print(x[1])\n",
    "print(x[-1])\n",
    "print(x[-2])"
   ],
   "outputs": [
    {
     "name": "stdout",
     "output_type": "stream",
     "text": [
      "apple\n",
      "orange\n",
      "orange\n",
      "apple\n"
     ]
    }
   ],
   "execution_count": 23
  },
  {
   "cell_type": "markdown",
   "metadata": {},
   "source": [
    "```\n",
    "> Lists can also be nested \n",
    "```"
   ]
  },
  {
   "cell_type": "code",
   "metadata": {
    "ExecuteTime": {
     "end_time": "2025-10-06T09:06:30.592809Z",
     "start_time": "2025-10-06T09:06:30.590218Z"
    }
   },
   "source": [
    "x = [[1,2],[3,4]]"
   ],
   "outputs": [],
   "execution_count": 24
  },
  {
   "cell_type": "code",
   "metadata": {
    "ExecuteTime": {
     "end_time": "2025-10-06T09:06:31.597710Z",
     "start_time": "2025-10-06T09:06:31.595538Z"
    }
   },
   "source": [
    "print(x[0])\n",
    "print(x[0][1])"
   ],
   "outputs": [
    {
     "name": "stdout",
     "output_type": "stream",
     "text": [
      "[1, 2]\n",
      "2\n"
     ]
    }
   ],
   "execution_count": 25
  },
  {
   "cell_type": "markdown",
   "metadata": {},
   "source": [
    "#### Slicing \n",
    "```\n",
    "> Slicing enables to access a sequence of data inside the list."
   ]
  },
  {
   "cell_type": "code",
   "metadata": {
    "ExecuteTime": {
     "end_time": "2025-10-06T09:06:33.589184Z",
     "start_time": "2025-10-06T09:06:33.586994Z"
    }
   },
   "source": [
    "num = [0,1,1,2,3,4,5,6,7,8,9]"
   ],
   "outputs": [],
   "execution_count": 26
  },
  {
   "cell_type": "code",
   "metadata": {
    "ExecuteTime": {
     "end_time": "2025-10-06T09:06:34.557975Z",
     "start_time": "2025-10-06T09:06:34.555915Z"
    }
   },
   "source": [
    "print(num[0:4])\n",
    "print(num[4:])"
   ],
   "outputs": [
    {
     "name": "stdout",
     "output_type": "stream",
     "text": [
      "[0, 1, 1, 2]\n",
      "[3, 4, 5, 6, 7, 8, 9]\n"
     ]
    }
   ],
   "execution_count": 27
  },
  {
   "cell_type": "markdown",
   "metadata": {},
   "source": [
    "#### Build in list functions"
   ]
  },
  {
   "cell_type": "code",
   "metadata": {
    "ExecuteTime": {
     "end_time": "2025-10-06T09:06:36.832962Z",
     "start_time": "2025-10-06T09:06:36.830279Z"
    }
   },
   "source": [
    "len(num)"
   ],
   "outputs": [
    {
     "data": {
      "text/plain": [
       "11"
      ]
     },
     "execution_count": 28,
     "metadata": {},
     "output_type": "execute_result"
    }
   ],
   "execution_count": 28
  },
  {
   "cell_type": "code",
   "metadata": {
    "ExecuteTime": {
     "end_time": "2025-10-06T09:06:37.899222Z",
     "start_time": "2025-10-06T09:06:37.896320Z"
    }
   },
   "source": [
    "max(num)"
   ],
   "outputs": [
    {
     "data": {
      "text/plain": [
       "9"
      ]
     },
     "execution_count": 29,
     "metadata": {},
     "output_type": "execute_result"
    }
   ],
   "execution_count": 29
  },
  {
   "cell_type": "code",
   "metadata": {
    "ExecuteTime": {
     "end_time": "2025-10-06T09:06:38.947557Z",
     "start_time": "2025-10-06T09:06:38.944849Z"
    }
   },
   "source": [
    "min(num)"
   ],
   "outputs": [
    {
     "data": {
      "text/plain": [
       "0"
      ]
     },
     "execution_count": 30,
     "metadata": {},
     "output_type": "execute_result"
    }
   ],
   "execution_count": 30
  },
  {
   "cell_type": "code",
   "metadata": {
    "ExecuteTime": {
     "end_time": "2025-10-06T09:06:40.525653Z",
     "start_time": "2025-10-06T09:06:40.523353Z"
    }
   },
   "source": [
    "print(0 in num)\n",
    "print(100 in num)"
   ],
   "outputs": [
    {
     "name": "stdout",
     "output_type": "stream",
     "text": [
      "True\n",
      "False\n"
     ]
    }
   ],
   "execution_count": 31
  },
  {
   "cell_type": "code",
   "metadata": {
    "ExecuteTime": {
     "end_time": "2025-10-06T09:06:41.779644Z",
     "start_time": "2025-10-06T09:06:41.777095Z"
    }
   },
   "source": [
    "num.append(10)\n",
    "num"
   ],
   "outputs": [
    {
     "data": {
      "text/plain": [
       "[0, 1, 1, 2, 3, 4, 5, 6, 7, 8, 9, 10]"
      ]
     },
     "execution_count": 32,
     "metadata": {},
     "output_type": "execute_result"
    }
   ],
   "execution_count": 32
  },
  {
   "cell_type": "code",
   "metadata": {
    "ExecuteTime": {
     "end_time": "2025-10-06T09:06:43.302817Z",
     "start_time": "2025-10-06T09:06:43.299691Z"
    }
   },
   "source": [
    "num[0] = 1\n",
    "num"
   ],
   "outputs": [
    {
     "data": {
      "text/plain": [
       "[1, 1, 1, 2, 3, 4, 5, 6, 7, 8, 9, 10]"
      ]
     },
     "execution_count": 33,
     "metadata": {},
     "output_type": "execute_result"
    }
   ],
   "execution_count": 33
  },
  {
   "cell_type": "code",
   "metadata": {
    "ExecuteTime": {
     "end_time": "2025-10-06T09:06:45.130164Z",
     "start_time": "2025-10-06T09:06:45.128131Z"
    }
   },
   "source": [
    "num.remove(1) #entfernt nur die 1. Zahl die vorkommt!!!\n",
    "num"
   ],
   "outputs": [
    {
     "data": {
      "text/plain": [
       "[1, 1, 2, 3, 4, 5, 6, 7, 8, 9, 10]"
      ]
     },
     "execution_count": 34,
     "metadata": {},
     "output_type": "execute_result"
    }
   ],
   "execution_count": 34
  },
  {
   "cell_type": "code",
   "metadata": {
    "ExecuteTime": {
     "end_time": "2025-10-06T09:06:46.499820Z",
     "start_time": "2025-10-06T09:06:46.496850Z"
    }
   },
   "source": [
    "num = [x for x in num if x != 1] #entfernt alle 1er\n",
    "num"
   ],
   "outputs": [
    {
     "data": {
      "text/plain": [
       "[2, 3, 4, 5, 6, 7, 8, 9, 10]"
      ]
     },
     "execution_count": 35,
     "metadata": {},
     "output_type": "execute_result"
    }
   ],
   "execution_count": 35
  },
  {
   "cell_type": "code",
   "metadata": {
    "ExecuteTime": {
     "end_time": "2025-10-06T09:06:47.904310Z",
     "start_time": "2025-10-06T09:06:47.901082Z"
    }
   },
   "source": [
    "element = num.pop(-1) #entfernt index -1, gibt Wert zurück\n",
    "print(element)\n",
    "num"
   ],
   "outputs": [
    {
     "name": "stdout",
     "output_type": "stream",
     "text": [
      "10\n"
     ]
    },
    {
     "data": {
      "text/plain": [
       "[2, 3, 4, 5, 6, 7, 8, 9]"
      ]
     },
     "execution_count": 36,
     "metadata": {},
     "output_type": "execute_result"
    }
   ],
   "execution_count": 36
  },
  {
   "cell_type": "markdown",
   "metadata": {},
   "source": [
    "### Your 2. Task\n",
    "```\n",
    "> Remove from the following list the element at index 5 and add it to the 2 index and append it to the end of the list \n",
    "```"
   ]
  },
  {
   "cell_type": "code",
   "metadata": {
    "ExecuteTime": {
     "end_time": "2025-10-06T09:06:51.802789Z",
     "start_time": "2025-10-06T09:06:51.799746Z"
    }
   },
   "source": [
    "list= [11, 45, 8, 11, 23, 31, 23, 45, 89]\n",
    "\n",
    "element = list.pop(5)\n",
    "\n",
    "list[2] = list[2] + element\n",
    "\n",
    "list.append(element)\n",
    "\n",
    "print(list)"
   ],
   "outputs": [
    {
     "name": "stdout",
     "output_type": "stream",
     "text": [
      "[11, 45, 39, 11, 23, 23, 45, 89, 31]\n"
     ]
    }
   ],
   "execution_count": 37
  },
  {
   "cell_type": "markdown",
   "metadata": {},
   "source": [
    "### Strings\n",
    "Strings are ordered text based data which are represented by enclosing the same in single/double/triple quotes."
   ]
  },
  {
   "cell_type": "code",
   "metadata": {
    "ExecuteTime": {
     "end_time": "2025-10-06T09:06:54.005546Z",
     "start_time": "2025-10-06T09:06:54.003585Z"
    }
   },
   "source": [
    "text = 'NLP ist super!'\n",
    "print(text)"
   ],
   "outputs": [
    {
     "name": "stdout",
     "output_type": "stream",
     "text": [
      "NLP ist super!\n"
     ]
    }
   ],
   "execution_count": 38
  },
  {
   "cell_type": "code",
   "metadata": {
    "ExecuteTime": {
     "end_time": "2025-10-06T09:06:56.287621Z",
     "start_time": "2025-10-06T09:06:56.285052Z"
    }
   },
   "source": [
    "print(text[:6])"
   ],
   "outputs": [
    {
     "name": "stdout",
     "output_type": "stream",
     "text": [
      "NLP is\n"
     ]
    }
   ],
   "execution_count": 39
  },
  {
   "cell_type": "code",
   "metadata": {
    "ExecuteTime": {
     "end_time": "2025-10-06T09:06:57.489599Z",
     "start_time": "2025-10-06T09:06:57.486145Z"
    }
   },
   "source": [
    "print(text.find('!'))"
   ],
   "outputs": [
    {
     "name": "stdout",
     "output_type": "stream",
     "text": [
      "13\n"
     ]
    }
   ],
   "execution_count": 40
  },
  {
   "cell_type": "code",
   "metadata": {
    "ExecuteTime": {
     "end_time": "2025-10-06T09:06:58.858007Z",
     "start_time": "2025-10-06T09:06:58.855568Z"
    }
   },
   "source": [
    "print(text[13])"
   ],
   "outputs": [
    {
     "name": "stdout",
     "output_type": "stream",
     "text": [
      "!\n"
     ]
    }
   ],
   "execution_count": 41
  },
  {
   "cell_type": "code",
   "metadata": {
    "ExecuteTime": {
     "end_time": "2025-10-06T09:07:00.113353Z",
     "start_time": "2025-10-06T09:07:00.111430Z"
    }
   },
   "source": [
    "list = text.split(' ')\n",
    "print(list)"
   ],
   "outputs": [
    {
     "name": "stdout",
     "output_type": "stream",
     "text": [
      "['NLP', 'ist', 'super!']\n"
     ]
    }
   ],
   "execution_count": 42
  },
  {
   "cell_type": "markdown",
   "metadata": {},
   "source": [
    "```\n",
    "> There are more functions ...  \n",
    "```"
   ]
  },
  {
   "cell_type": "markdown",
   "metadata": {},
   "source": [
    "### Control Flow"
   ]
  },
  {
   "cell_type": "markdown",
   "metadata": {},
   "source": [
    "```\n",
    "> The Python syntax for conditional execution of code uses the keywords if, elif (else if), else:\n",
    "```"
   ]
  },
  {
   "cell_type": "code",
   "metadata": {
    "ExecuteTime": {
     "end_time": "2025-10-06T09:07:02.307455Z",
     "start_time": "2025-10-06T09:07:02.304675Z"
    }
   },
   "source": [
    "statement1 = True\n",
    "statement2 = False\n",
    "\n",
    "if statement1:\n",
    "    print(\"Statement1 is True\")\n",
    "    \n",
    "elif statement2:\n",
    "    print(\"Statement2 is True\")\n",
    "    \n",
    "else:\n",
    "    print(\"Nothing is True\")"
   ],
   "outputs": [
    {
     "name": "stdout",
     "output_type": "stream",
     "text": [
      "Statement1 is True\n"
     ]
    }
   ],
   "execution_count": 43
  },
  {
   "cell_type": "markdown",
   "metadata": {},
   "source": [
    "```\n",
    "> Loops \n",
    "```"
   ]
  },
  {
   "cell_type": "code",
   "metadata": {
    "ExecuteTime": {
     "end_time": "2025-10-06T09:07:04.545242Z",
     "start_time": "2025-10-06T09:07:04.543140Z"
    }
   },
   "source": [
    "list = [1,3,5,7]\n",
    "\n",
    "for x in list: # x als Wert\n",
    "    print(x)"
   ],
   "outputs": [
    {
     "name": "stdout",
     "output_type": "stream",
     "text": [
      "1\n",
      "3\n",
      "5\n",
      "7\n"
     ]
    }
   ],
   "execution_count": 44
  },
  {
   "cell_type": "code",
   "metadata": {
    "ExecuteTime": {
     "end_time": "2025-10-06T09:07:05.821515Z",
     "start_time": "2025-10-06T09:07:05.818330Z"
    }
   },
   "source": [
    "for x in range(len(list)): # x als Index\n",
    "    print(x)"
   ],
   "outputs": [
    {
     "name": "stdout",
     "output_type": "stream",
     "text": [
      "0\n",
      "1\n",
      "2\n",
      "3\n"
     ]
    }
   ],
   "execution_count": 45
  },
  {
   "cell_type": "code",
   "metadata": {
    "ExecuteTime": {
     "end_time": "2025-10-06T09:07:07.102221Z",
     "start_time": "2025-10-06T09:07:07.099385Z"
    }
   },
   "source": [
    "for x, y in enumerate(list): # x als Index und Wert\n",
    "    print(x, y)"
   ],
   "outputs": [
    {
     "name": "stdout",
     "output_type": "stream",
     "text": [
      "0 1\n",
      "1 3\n",
      "2 5\n",
      "3 7\n"
     ]
    }
   ],
   "execution_count": 46
  },
  {
   "cell_type": "code",
   "metadata": {
    "ExecuteTime": {
     "end_time": "2025-10-06T09:07:08.453839Z",
     "start_time": "2025-10-06T09:07:08.451163Z"
    }
   },
   "source": [
    "for x in range(5): # x als Wert \n",
    "    print(x)"
   ],
   "outputs": [
    {
     "name": "stdout",
     "output_type": "stream",
     "text": [
      "0\n",
      "1\n",
      "2\n",
      "3\n",
      "4\n"
     ]
    }
   ],
   "execution_count": 47
  },
  {
   "cell_type": "code",
   "metadata": {
    "ExecuteTime": {
     "end_time": "2025-10-06T09:07:09.709515Z",
     "start_time": "2025-10-06T09:07:09.707012Z"
    }
   },
   "source": [
    "i = 0\n",
    "\n",
    "while i < 5: # als while loop\n",
    "    print(i)\n",
    "    \n",
    "    i +=1\n",
    "    \n",
    "print(\"done\")"
   ],
   "outputs": [
    {
     "name": "stdout",
     "output_type": "stream",
     "text": [
      "0\n",
      "1\n",
      "2\n",
      "3\n",
      "4\n",
      "done\n"
     ]
    }
   ],
   "execution_count": 48
  },
  {
   "cell_type": "markdown",
   "metadata": {},
   "source": [
    "### Functions"
   ]
  },
  {
   "cell_type": "code",
   "metadata": {
    "ExecuteTime": {
     "end_time": "2025-10-06T09:07:11.687279Z",
     "start_time": "2025-10-06T09:07:11.684102Z"
    }
   },
   "source": [
    "def square(x):\n",
    "    return x ** 2\n",
    "\n",
    "square(4)"
   ],
   "outputs": [
    {
     "data": {
      "text/plain": [
       "16"
      ]
     },
     "execution_count": 49,
     "metadata": {},
     "output_type": "execute_result"
    }
   ],
   "execution_count": 49
  },
  {
   "cell_type": "code",
   "metadata": {
    "ExecuteTime": {
     "end_time": "2025-10-06T09:07:13.177497Z",
     "start_time": "2025-10-06T09:07:13.174593Z"
    }
   },
   "source": [
    "def addition(x, y, printing=True):\n",
    "\n",
    "    sum = x + y\n",
    "\n",
    "    if printing:\n",
    "        print(sum)\n",
    "\n",
    "    return sum\n",
    "\n",
    "result = addition(5, 5)"
   ],
   "outputs": [
    {
     "name": "stdout",
     "output_type": "stream",
     "text": [
      "10\n"
     ]
    }
   ],
   "execution_count": 50
  },
  {
   "cell_type": "markdown",
   "metadata": {},
   "source": [
    "###  Your 3. Task\n",
    "```\n",
    "> Implement a method with two list of ints as arguments and creates a third list that should contain only odd numbers from the first list and even numbers from the second list.\n",
    "```"
   ]
  },
  {
   "cell_type": "code",
   "metadata": {
    "ExecuteTime": {
     "end_time": "2025-10-06T09:07:16.938777Z",
     "start_time": "2025-10-06T09:07:16.934745Z"
    }
   },
   "source": [
    "list_one = [10, 20, 23, 11, 17]\n",
    "list_two = [13, 43, 24, 36, 12]\n",
    "\n",
    "def merge_list(l_1, l_2):\n",
    "    result_list = []\n",
    "    \n",
    "    for num in l_1:\n",
    "        if(num % 2 != 0):\n",
    "            result_list.append(num)\n",
    "            \n",
    "    for num in l_2:\n",
    "        if(num % 2 == 0):\n",
    "            result_list.append(num)\n",
    "            \n",
    "    return result_list\n",
    "\n",
    "merge_list(list_one, list_two)"
   ],
   "outputs": [
    {
     "data": {
      "text/plain": [
       "[23, 11, 17, 24, 36, 12]"
      ]
     },
     "execution_count": 51,
     "metadata": {},
     "output_type": "execute_result"
    }
   ],
   "execution_count": 51
  },
  {
   "cell_type": "markdown",
   "metadata": {},
   "source": [
    "### Classes"
   ]
  },
  {
   "cell_type": "markdown",
   "metadata": {},
   "source": [
    "Classes are the key features of object-oriented programming. In Python a class can contain attributes (variables) and methods (functions). A class is defined almost like a function, but using the class keyword, and the class definition usually contains a number of class method definitions (a function in a class). Each class method should have an argument `self` as its first argument. Some class method names have special meaning, for example:\n",
    "\n",
    "* `__init__`: The name of the method that is invoked when the object is first created.\n",
    "* `__str__`: A method that is invoked when a simple string representation of the class is needed, as for example when printed.\n"
   ]
  },
  {
   "cell_type": "code",
   "metadata": {
    "ExecuteTime": {
     "end_time": "2025-10-06T09:07:20.143511Z",
     "start_time": "2025-10-06T09:07:20.140378Z"
    }
   },
   "source": [
    "class Point:\n",
    "    \n",
    "    def __init__(self, x, y): #Create a new Point at x, y\n",
    "        self.x = x\n",
    "        self.y = y\n",
    "        \n",
    "    def translate(self, dx, dy): #Translate the point by dx and dy in the x and y direction.\n",
    "        self.x += dx\n",
    "        self.y += dy\n",
    "        \n",
    "    def __str__(self): #String representation of the class\n",
    "        return (f'Point at {self.x}, {self.y}')"
   ],
   "outputs": [],
   "execution_count": 52
  },
  {
   "cell_type": "code",
   "metadata": {
    "ExecuteTime": {
     "end_time": "2025-10-06T09:07:21.831508Z",
     "start_time": "2025-10-06T09:07:21.828392Z"
    }
   },
   "source": [
    "point = Point(10,5)\n",
    "print(point)"
   ],
   "outputs": [
    {
     "name": "stdout",
     "output_type": "stream",
     "text": [
      "Point at 10, 5\n"
     ]
    }
   ],
   "execution_count": 53
  },
  {
   "cell_type": "code",
   "metadata": {
    "ExecuteTime": {
     "end_time": "2025-10-06T09:07:22.946774Z",
     "start_time": "2025-10-06T09:07:22.944974Z"
    }
   },
   "source": [
    "point.translate(1,1)\n",
    "print(point)"
   ],
   "outputs": [
    {
     "name": "stdout",
     "output_type": "stream",
     "text": [
      "Point at 11, 6\n"
     ]
    }
   ],
   "execution_count": 54
  },
  {
   "cell_type": "markdown",
   "metadata": {},
   "source": [
    "### Modules\n",
    "\n",
    "One of the most important concepts in good programming is to reuse code and avoid repetitions. We can import the module mymodule into our Python program using import:"
   ]
  },
  {
   "cell_type": "code",
   "metadata": {
    "ExecuteTime": {
     "end_time": "2025-10-06T09:07:26.026706Z",
     "start_time": "2025-10-06T09:07:25.452387Z"
    }
   },
   "source": [
    "!pip install requests bs4 nltk"
   ],
   "outputs": [
    {
     "name": "stdout",
     "output_type": "stream",
     "text": [
      "Requirement already satisfied: requests in /Library/Frameworks/Python.framework/Versions/3.13/lib/python3.13/site-packages (2.32.3)\r\n",
      "Requirement already satisfied: bs4 in /Library/Frameworks/Python.framework/Versions/3.13/lib/python3.13/site-packages (0.0.2)\r\n",
      "Requirement already satisfied: nltk in /Library/Frameworks/Python.framework/Versions/3.13/lib/python3.13/site-packages (3.9.2)\r\n",
      "Requirement already satisfied: charset-normalizer<4,>=2 in /Library/Frameworks/Python.framework/Versions/3.13/lib/python3.13/site-packages (from requests) (3.4.1)\r\n",
      "Requirement already satisfied: idna<4,>=2.5 in /Library/Frameworks/Python.framework/Versions/3.13/lib/python3.13/site-packages (from requests) (3.10)\r\n",
      "Requirement already satisfied: urllib3<3,>=1.21.1 in /Library/Frameworks/Python.framework/Versions/3.13/lib/python3.13/site-packages (from requests) (2.4.0)\r\n",
      "Requirement already satisfied: certifi>=2017.4.17 in /Library/Frameworks/Python.framework/Versions/3.13/lib/python3.13/site-packages (from requests) (2025.1.31)\r\n",
      "Requirement already satisfied: beautifulsoup4 in /Library/Frameworks/Python.framework/Versions/3.13/lib/python3.13/site-packages (from bs4) (4.14.2)\r\n",
      "Requirement already satisfied: click in /Library/Frameworks/Python.framework/Versions/3.13/lib/python3.13/site-packages (from nltk) (8.2.1)\r\n",
      "Requirement already satisfied: joblib in /Library/Frameworks/Python.framework/Versions/3.13/lib/python3.13/site-packages (from nltk) (1.5.0)\r\n",
      "Requirement already satisfied: regex>=2021.8.3 in /Library/Frameworks/Python.framework/Versions/3.13/lib/python3.13/site-packages (from nltk) (2025.9.18)\r\n",
      "Requirement already satisfied: tqdm in /Library/Frameworks/Python.framework/Versions/3.13/lib/python3.13/site-packages (from nltk) (4.67.1)\r\n",
      "Requirement already satisfied: soupsieve>1.2 in /Library/Frameworks/Python.framework/Versions/3.13/lib/python3.13/site-packages (from beautifulsoup4->bs4) (2.8)\r\n",
      "Requirement already satisfied: typing-extensions>=4.0.0 in /Library/Frameworks/Python.framework/Versions/3.13/lib/python3.13/site-packages (from beautifulsoup4->bs4) (4.15.0)\r\n",
      "\r\n",
      "\u001B[1m[\u001B[0m\u001B[34;49mnotice\u001B[0m\u001B[1;39;49m]\u001B[0m\u001B[39;49m A new release of pip is available: \u001B[0m\u001B[31;49m24.3.1\u001B[0m\u001B[39;49m -> \u001B[0m\u001B[32;49m25.2\u001B[0m\r\n",
      "\u001B[1m[\u001B[0m\u001B[34;49mnotice\u001B[0m\u001B[1;39;49m]\u001B[0m\u001B[39;49m To update, run: \u001B[0m\u001B[32;49mpip install --upgrade pip\u001B[0m\r\n"
     ]
    }
   ],
   "execution_count": 55
  },
  {
   "cell_type": "code",
   "metadata": {
    "ExecuteTime": {
     "end_time": "2025-10-06T09:07:28.005671Z",
     "start_time": "2025-10-06T09:07:28.003467Z"
    }
   },
   "source": [
    "import requests\n",
    "from bs4 import BeautifulSoup\n",
    "import nltk"
   ],
   "outputs": [],
   "execution_count": 56
  },
  {
   "cell_type": "code",
   "metadata": {
    "ExecuteTime": {
     "end_time": "2025-10-06T09:07:30.448023Z",
     "start_time": "2025-10-06T09:07:30.445343Z"
    }
   },
   "source": [
    "def url_to_transcript(url):\n",
    "    page = requests.get(url).text\n",
    "    soup = BeautifulSoup(page, \"html.parser\")\n",
    "    text = [p.text for p in soup.find_all('p')]\n",
    "    return \" \".join(text)"
   ],
   "outputs": [],
   "execution_count": 57
  },
  {
   "cell_type": "code",
   "metadata": {
    "ExecuteTime": {
     "end_time": "2025-10-06T09:07:32.028884Z",
     "start_time": "2025-10-06T09:07:31.929245Z"
    }
   },
   "source": [
    "# load a Churchill speach\n",
    "url = 'https://api.parliament.uk/historic-hansard/commons/1940/jun/04/war-situation'\n",
    "transcript = url_to_transcript(url)\n",
    "transcript[102:300]"
   ],
   "outputs": [
    {
     "data": {
      "text/plain": [
       "'Meuse were broken at the end of the second week of May, only a rapid retreat to Amiens and the south could have saved the British and French Armies who had entered Belgium at the appeal of the Belgi'"
      ]
     },
     "execution_count": 58,
     "metadata": {},
     "output_type": "execute_result"
    }
   ],
   "execution_count": 58
  },
  {
   "cell_type": "code",
   "metadata": {
    "ExecuteTime": {
     "end_time": "2025-10-06T09:07:33.259247Z",
     "start_time": "2025-10-06T09:07:33.257223Z"
    }
   },
   "source": [
    "# use lower case\n",
    "transcript = transcript.lower()\n",
    "transcript[102:300]"
   ],
   "outputs": [
    {
     "data": {
      "text/plain": [
       "'meuse were broken at the end of the second week of may, only a rapid retreat to amiens and the south could have saved the british and french armies who had entered belgium at the appeal of the belgi'"
      ]
     },
     "execution_count": 59,
     "metadata": {},
     "output_type": "execute_result"
    }
   ],
   "execution_count": 59
  },
  {
   "cell_type": "code",
   "metadata": {
    "ExecuteTime": {
     "end_time": "2025-10-06T09:09:57.259176Z",
     "start_time": "2025-10-06T09:09:57.041755Z"
    }
   },
   "source": [
    "import nltk\n",
    "nltk.download('punkt')\n",
    "# tokenize for words\n",
    "word_tokens = nltk.word_tokenize(transcript)\n",
    "print(word_tokens[1:21])"
   ],
   "outputs": [
    {
     "name": "stderr",
     "output_type": "stream",
     "text": [
      "[nltk_data] Error loading punkt: <urlopen error [SSL:\n",
      "[nltk_data]     CERTIFICATE_VERIFY_FAILED] certificate verify failed:\n",
      "[nltk_data]     unable to get local issuer certificate (_ssl.c:1020)>\n"
     ]
    },
    {
     "ename": "LookupError",
     "evalue": "\n**********************************************************************\n  Resource \u001B[93mpunkt_tab\u001B[0m not found.\n  Please use the NLTK Downloader to obtain the resource:\n\n  \u001B[31m>>> import nltk\n  >>> nltk.download('punkt_tab')\n  \u001B[0m\n  For more information see: https://www.nltk.org/data.html\n\n  Attempted to load \u001B[93mtokenizers/punkt_tab/english/\u001B[0m\n\n  Searched in:\n    - '/Users/kalle/nltk_data'\n    - '/Library/Frameworks/Python.framework/Versions/3.13/nltk_data'\n    - '/Library/Frameworks/Python.framework/Versions/3.13/share/nltk_data'\n    - '/Library/Frameworks/Python.framework/Versions/3.13/lib/nltk_data'\n    - '/usr/share/nltk_data'\n    - '/usr/local/share/nltk_data'\n    - '/usr/lib/nltk_data'\n    - '/usr/local/lib/nltk_data'\n**********************************************************************\n",
     "output_type": "error",
     "traceback": [
      "\u001B[31m---------------------------------------------------------------------------\u001B[39m",
      "\u001B[31mLookupError\u001B[39m                               Traceback (most recent call last)",
      "\u001B[36mCell\u001B[39m\u001B[36m \u001B[39m\u001B[32mIn[61]\u001B[39m\u001B[32m, line 4\u001B[39m\n\u001B[32m      2\u001B[39m nltk.download(\u001B[33m'\u001B[39m\u001B[33mpunkt\u001B[39m\u001B[33m'\u001B[39m)\n\u001B[32m      3\u001B[39m \u001B[38;5;66;03m# tokenize for words\u001B[39;00m\n\u001B[32m----> \u001B[39m\u001B[32m4\u001B[39m word_tokens = \u001B[43mnltk\u001B[49m\u001B[43m.\u001B[49m\u001B[43mword_tokenize\u001B[49m\u001B[43m(\u001B[49m\u001B[43mtranscript\u001B[49m\u001B[43m)\u001B[49m\n\u001B[32m      5\u001B[39m \u001B[38;5;28mprint\u001B[39m(word_tokens[\u001B[32m1\u001B[39m:\u001B[32m21\u001B[39m])\n\u001B[32m      6\u001B[39m transcript = \u001B[33m\"\u001B[39m\u001B[33mBeispieltext\u001B[39m\u001B[33m\"\u001B[39m\n",
      "\u001B[36mFile \u001B[39m\u001B[32m/Library/Frameworks/Python.framework/Versions/3.13/lib/python3.13/site-packages/nltk/tokenize/__init__.py:142\u001B[39m, in \u001B[36mword_tokenize\u001B[39m\u001B[34m(text, language, preserve_line)\u001B[39m\n\u001B[32m    127\u001B[39m \u001B[38;5;28;01mdef\u001B[39;00m\u001B[38;5;250m \u001B[39m\u001B[34mword_tokenize\u001B[39m(text, language=\u001B[33m\"\u001B[39m\u001B[33menglish\u001B[39m\u001B[33m\"\u001B[39m, preserve_line=\u001B[38;5;28;01mFalse\u001B[39;00m):\n\u001B[32m    128\u001B[39m \u001B[38;5;250m    \u001B[39m\u001B[33;03m\"\"\"\u001B[39;00m\n\u001B[32m    129\u001B[39m \u001B[33;03m    Return a tokenized copy of *text*,\u001B[39;00m\n\u001B[32m    130\u001B[39m \u001B[33;03m    using NLTK's recommended word tokenizer\u001B[39;00m\n\u001B[32m   (...)\u001B[39m\u001B[32m    140\u001B[39m \u001B[33;03m    :type preserve_line: bool\u001B[39;00m\n\u001B[32m    141\u001B[39m \u001B[33;03m    \"\"\"\u001B[39;00m\n\u001B[32m--> \u001B[39m\u001B[32m142\u001B[39m     sentences = [text] \u001B[38;5;28;01mif\u001B[39;00m preserve_line \u001B[38;5;28;01melse\u001B[39;00m \u001B[43msent_tokenize\u001B[49m\u001B[43m(\u001B[49m\u001B[43mtext\u001B[49m\u001B[43m,\u001B[49m\u001B[43m \u001B[49m\u001B[43mlanguage\u001B[49m\u001B[43m)\u001B[49m\n\u001B[32m    143\u001B[39m     \u001B[38;5;28;01mreturn\u001B[39;00m [\n\u001B[32m    144\u001B[39m         token \u001B[38;5;28;01mfor\u001B[39;00m sent \u001B[38;5;129;01min\u001B[39;00m sentences \u001B[38;5;28;01mfor\u001B[39;00m token \u001B[38;5;129;01min\u001B[39;00m _treebank_word_tokenizer.tokenize(sent)\n\u001B[32m    145\u001B[39m     ]\n",
      "\u001B[36mFile \u001B[39m\u001B[32m/Library/Frameworks/Python.framework/Versions/3.13/lib/python3.13/site-packages/nltk/tokenize/__init__.py:119\u001B[39m, in \u001B[36msent_tokenize\u001B[39m\u001B[34m(text, language)\u001B[39m\n\u001B[32m    109\u001B[39m \u001B[38;5;28;01mdef\u001B[39;00m\u001B[38;5;250m \u001B[39m\u001B[34msent_tokenize\u001B[39m(text, language=\u001B[33m\"\u001B[39m\u001B[33menglish\u001B[39m\u001B[33m\"\u001B[39m):\n\u001B[32m    110\u001B[39m \u001B[38;5;250m    \u001B[39m\u001B[33;03m\"\"\"\u001B[39;00m\n\u001B[32m    111\u001B[39m \u001B[33;03m    Return a sentence-tokenized copy of *text*,\u001B[39;00m\n\u001B[32m    112\u001B[39m \u001B[33;03m    using NLTK's recommended sentence tokenizer\u001B[39;00m\n\u001B[32m   (...)\u001B[39m\u001B[32m    117\u001B[39m \u001B[33;03m    :param language: the model name in the Punkt corpus\u001B[39;00m\n\u001B[32m    118\u001B[39m \u001B[33;03m    \"\"\"\u001B[39;00m\n\u001B[32m--> \u001B[39m\u001B[32m119\u001B[39m     tokenizer = \u001B[43m_get_punkt_tokenizer\u001B[49m\u001B[43m(\u001B[49m\u001B[43mlanguage\u001B[49m\u001B[43m)\u001B[49m\n\u001B[32m    120\u001B[39m     \u001B[38;5;28;01mreturn\u001B[39;00m tokenizer.tokenize(text)\n",
      "\u001B[36mFile \u001B[39m\u001B[32m/Library/Frameworks/Python.framework/Versions/3.13/lib/python3.13/site-packages/nltk/tokenize/__init__.py:105\u001B[39m, in \u001B[36m_get_punkt_tokenizer\u001B[39m\u001B[34m(language)\u001B[39m\n\u001B[32m     96\u001B[39m \u001B[38;5;129m@functools\u001B[39m.lru_cache\n\u001B[32m     97\u001B[39m \u001B[38;5;28;01mdef\u001B[39;00m\u001B[38;5;250m \u001B[39m\u001B[34m_get_punkt_tokenizer\u001B[39m(language=\u001B[33m\"\u001B[39m\u001B[33menglish\u001B[39m\u001B[33m\"\u001B[39m):\n\u001B[32m     98\u001B[39m \u001B[38;5;250m    \u001B[39m\u001B[33;03m\"\"\"\u001B[39;00m\n\u001B[32m     99\u001B[39m \u001B[33;03m    A constructor for the PunktTokenizer that utilizes\u001B[39;00m\n\u001B[32m    100\u001B[39m \u001B[33;03m    a lru cache for performance.\u001B[39;00m\n\u001B[32m   (...)\u001B[39m\u001B[32m    103\u001B[39m \u001B[33;03m    :type language: str\u001B[39;00m\n\u001B[32m    104\u001B[39m \u001B[33;03m    \"\"\"\u001B[39;00m\n\u001B[32m--> \u001B[39m\u001B[32m105\u001B[39m     \u001B[38;5;28;01mreturn\u001B[39;00m \u001B[43mPunktTokenizer\u001B[49m\u001B[43m(\u001B[49m\u001B[43mlanguage\u001B[49m\u001B[43m)\u001B[49m\n",
      "\u001B[36mFile \u001B[39m\u001B[32m/Library/Frameworks/Python.framework/Versions/3.13/lib/python3.13/site-packages/nltk/tokenize/punkt.py:1744\u001B[39m, in \u001B[36mPunktTokenizer.__init__\u001B[39m\u001B[34m(self, lang)\u001B[39m\n\u001B[32m   1742\u001B[39m \u001B[38;5;28;01mdef\u001B[39;00m\u001B[38;5;250m \u001B[39m\u001B[34m__init__\u001B[39m(\u001B[38;5;28mself\u001B[39m, lang=\u001B[33m\"\u001B[39m\u001B[33menglish\u001B[39m\u001B[33m\"\u001B[39m):\n\u001B[32m   1743\u001B[39m     PunktSentenceTokenizer.\u001B[34m__init__\u001B[39m(\u001B[38;5;28mself\u001B[39m)\n\u001B[32m-> \u001B[39m\u001B[32m1744\u001B[39m     \u001B[38;5;28;43mself\u001B[39;49m\u001B[43m.\u001B[49m\u001B[43mload_lang\u001B[49m\u001B[43m(\u001B[49m\u001B[43mlang\u001B[49m\u001B[43m)\u001B[49m\n",
      "\u001B[36mFile \u001B[39m\u001B[32m/Library/Frameworks/Python.framework/Versions/3.13/lib/python3.13/site-packages/nltk/tokenize/punkt.py:1749\u001B[39m, in \u001B[36mPunktTokenizer.load_lang\u001B[39m\u001B[34m(self, lang)\u001B[39m\n\u001B[32m   1746\u001B[39m \u001B[38;5;28;01mdef\u001B[39;00m\u001B[38;5;250m \u001B[39m\u001B[34mload_lang\u001B[39m(\u001B[38;5;28mself\u001B[39m, lang=\u001B[33m\"\u001B[39m\u001B[33menglish\u001B[39m\u001B[33m\"\u001B[39m):\n\u001B[32m   1747\u001B[39m     \u001B[38;5;28;01mfrom\u001B[39;00m\u001B[38;5;250m \u001B[39m\u001B[34;01mnltk\u001B[39;00m\u001B[34;01m.\u001B[39;00m\u001B[34;01mdata\u001B[39;00m\u001B[38;5;250m \u001B[39m\u001B[38;5;28;01mimport\u001B[39;00m find\n\u001B[32m-> \u001B[39m\u001B[32m1749\u001B[39m     lang_dir = \u001B[43mfind\u001B[49m\u001B[43m(\u001B[49m\u001B[33;43mf\u001B[39;49m\u001B[33;43m\"\u001B[39;49m\u001B[33;43mtokenizers/punkt_tab/\u001B[39;49m\u001B[38;5;132;43;01m{\u001B[39;49;00m\u001B[43mlang\u001B[49m\u001B[38;5;132;43;01m}\u001B[39;49;00m\u001B[33;43m/\u001B[39;49m\u001B[33;43m\"\u001B[39;49m\u001B[43m)\u001B[49m\n\u001B[32m   1750\u001B[39m     \u001B[38;5;28mself\u001B[39m._params = load_punkt_params(lang_dir)\n\u001B[32m   1751\u001B[39m     \u001B[38;5;28mself\u001B[39m._lang = lang\n",
      "\u001B[36mFile \u001B[39m\u001B[32m/Library/Frameworks/Python.framework/Versions/3.13/lib/python3.13/site-packages/nltk/data.py:579\u001B[39m, in \u001B[36mfind\u001B[39m\u001B[34m(resource_name, paths)\u001B[39m\n\u001B[32m    577\u001B[39m sep = \u001B[33m\"\u001B[39m\u001B[33m*\u001B[39m\u001B[33m\"\u001B[39m * \u001B[32m70\u001B[39m\n\u001B[32m    578\u001B[39m resource_not_found = \u001B[33mf\u001B[39m\u001B[33m\"\u001B[39m\u001B[38;5;130;01m\\n\u001B[39;00m\u001B[38;5;132;01m{\u001B[39;00msep\u001B[38;5;132;01m}\u001B[39;00m\u001B[38;5;130;01m\\n\u001B[39;00m\u001B[38;5;132;01m{\u001B[39;00mmsg\u001B[38;5;132;01m}\u001B[39;00m\u001B[38;5;130;01m\\n\u001B[39;00m\u001B[38;5;132;01m{\u001B[39;00msep\u001B[38;5;132;01m}\u001B[39;00m\u001B[38;5;130;01m\\n\u001B[39;00m\u001B[33m\"\u001B[39m\n\u001B[32m--> \u001B[39m\u001B[32m579\u001B[39m \u001B[38;5;28;01mraise\u001B[39;00m \u001B[38;5;167;01mLookupError\u001B[39;00m(resource_not_found)\n",
      "\u001B[31mLookupError\u001B[39m: \n**********************************************************************\n  Resource \u001B[93mpunkt_tab\u001B[0m not found.\n  Please use the NLTK Downloader to obtain the resource:\n\n  \u001B[31m>>> import nltk\n  >>> nltk.download('punkt_tab')\n  \u001B[0m\n  For more information see: https://www.nltk.org/data.html\n\n  Attempted to load \u001B[93mtokenizers/punkt_tab/english/\u001B[0m\n\n  Searched in:\n    - '/Users/kalle/nltk_data'\n    - '/Library/Frameworks/Python.framework/Versions/3.13/nltk_data'\n    - '/Library/Frameworks/Python.framework/Versions/3.13/share/nltk_data'\n    - '/Library/Frameworks/Python.framework/Versions/3.13/lib/nltk_data'\n    - '/usr/share/nltk_data'\n    - '/usr/local/share/nltk_data'\n    - '/usr/lib/nltk_data'\n    - '/usr/local/lib/nltk_data'\n**********************************************************************\n"
     ]
    }
   ],
   "execution_count": 61
  },
  {
   "cell_type": "markdown",
   "metadata": {},
   "source": [
    "# The End :)"
   ]
  }
 ],
 "metadata": {
  "kernelspec": {
   "display_name": "test123",
   "language": "python",
   "name": "python3"
  },
  "language_info": {
   "codemirror_mode": {
    "name": "ipython",
    "version": 3
   },
   "file_extension": ".py",
   "mimetype": "text/x-python",
   "name": "python",
   "nbconvert_exporter": "python",
   "pygments_lexer": "ipython3",
   "version": "3.9.18"
  }
 },
 "nbformat": 4,
 "nbformat_minor": 4
}
