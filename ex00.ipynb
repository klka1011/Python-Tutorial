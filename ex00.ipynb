{
 "cells": [
  {
   "cell_type": "markdown",
   "metadata": {},
   "source": [
    "# Software Engineering - Winter Term 2025\n",
    "##### Hochschule Karlsruhe\n",
    "##### Tutor Paul Löhr"
   ]
  },
  {
   "cell_type": "markdown",
   "metadata": {},
   "source": [
    "## Python Tutorial\n",
    "\n",
    "\n",
    "```\n",
    "> Instead of reading a static tutorial we will work and execute code to learn and explore Python concepts. \n",
    "```"
   ]
  },
  {
   "cell_type": "markdown",
   "metadata": {},
   "source": [
    "#### Why Python\n",
    "\n",
    "Python is a modern, general-purpose, object-oriented, high-level programming language. Python code is usually stored in text files with the file ending `.py`:\n",
    "\n",
    "__Python characteristics:__\n",
    "\n",
    "* Easy-to-read and intuitive code, easy-to-learn minimalistic syntax, maintainability scales well with size of projects.\n",
    "* Fewer lines of code, fewer bugs, easier to maintain.\n",
    "* dynamically typed: No need to define the type of variables, function arguments or return types.\n",
    "* automatic memory management: No need to explicitly allocate and deallocate memory for variables and data arrays. No memory leak bugs.\n",
    "* interpreted: No need to compile the code. The Python interpreter reads and executes the python code directly.\n",
    "\n",
    "__Basic Syntax:__\n",
    "\n",
    "No spaces or tab characters allowed at the start of a statement: Indentation plays a special role in Python (see the section on control statements). For now simply ensure that all statements start at the beginning of the line. The `#` character indicates that the rest of the line is a comment\n"
   ]
  },
  {
   "cell_type": "markdown",
   "metadata": {},
   "source": [
    "__Zen of Python__"
   ]
  },
  {
   "cell_type": "code",
   "execution_count": null,
   "metadata": {},
   "outputs": [],
   "source": [
    "import this"
   ]
  },
  {
   "cell_type": "markdown",
   "metadata": {},
   "source": [
    "---"
   ]
  },
  {
   "cell_type": "markdown",
   "metadata": {},
   "source": [
    "### Basics in Python \n",
    "```\n",
    "> Variables in python, variables can be declared and values can be assigned to it as follows:\n",
    "```"
   ]
  },
  {
   "cell_type": "code",
   "execution_count": null,
   "metadata": {},
   "outputs": [],
   "source": [
    "print('Hello World!')"
   ]
  },
  {
   "cell_type": "code",
   "execution_count": 3,
   "metadata": {},
   "outputs": [],
   "source": [
    "x = 5\n",
    "y = 3.12\n",
    "z = True\n",
    "name = 'Max Musterman'"
   ]
  },
  {
   "cell_type": "code",
   "execution_count": null,
   "metadata": {},
   "outputs": [],
   "source": [
    "print(f'{x=}, {y=}, {z=}, {name=}')\n",
    "\n",
    "print(x, y, z, name)"
   ]
  },
  {
   "cell_type": "markdown",
   "metadata": {},
   "source": [
    "```\n",
    "> Check the type of a variable \n",
    "```"
   ]
  },
  {
   "cell_type": "code",
   "execution_count": null,
   "metadata": {},
   "outputs": [],
   "source": [
    "print(type(x))\n",
    "print(type(y))\n",
    "print(type(z))\n",
    "print(type(name))"
   ]
  },
  {
   "cell_type": "markdown",
   "metadata": {},
   "source": [
    "```\n",
    "> Arithmetic Operators, Relational Operators, Bitwise Operators\n",
    "```\n",
    "\n",
    "| Symbol | Task Performed |\n",
    "|----|---|\n",
    "| +  | Addition |\n",
    "| -  | Subtraction|\n",
    "| /  | division |\n",
    "| %  | mod |\n",
    "| *  | multiplication |\n",
    "| //  | floor division |\n",
    "| **  | to the power of |\n",
    "| == | True, if it is equal |\n",
    "| !=  | True, if not equal to |\n",
    "| < | less than |\n",
    "| > | greater than |\n",
    "| <=  | less than or equal to |\n",
    "| >=  | greater than or equal to |\n",
    "| `and`  | Logical And |\n",
    "| `or`  | Logical OR |\n",
    "| `not`  | Not |\n",
    "| ~  | Negate |\n",
    "| ^  | XOR |\n",
    "| >>  | Right shift |\n",
    "| <<  | Left shift |\n"
   ]
  },
  {
   "cell_type": "code",
   "execution_count": null,
   "metadata": {},
   "outputs": [],
   "source": [
    "print(1+1)\n",
    "print(1-1)\n",
    "print(10/2)\n",
    "print(10%3)\n",
    "print(3*3)\n",
    "print(10//3)\n",
    "print(10**2)\n",
    "print(1==1)\n",
    "print(1!=1)"
   ]
  },
  {
   "cell_type": "markdown",
   "metadata": {},
   "source": [
    "### Your 1. Task\n",
    "```\n",
    "> Compute the value of the following polynomial and print the results to the screen:\n",
    "```\n",
    "\n",
    "* $y=ax^2 + bx + c$ with  $x=0$ and $x=20$ using $a=1, b=1, c=−6 $"
   ]
  },
  {
   "cell_type": "code",
   "execution_count": 1,
   "metadata": {},
   "outputs": [],
   "source": [
    "# Write the Code for the solution \n"
   ]
  },
  {
   "cell_type": "markdown",
   "metadata": {},
   "source": [
    "### Lists\n",
    "Lists are the most commonly used data structure. Think of it as a sequence of data that is enclosed in square brackets and data are separated by a comma. Lists are declared by just equating a variable to `[ ]` or list."
   ]
  },
  {
   "cell_type": "code",
   "execution_count": null,
   "metadata": {},
   "outputs": [],
   "source": [
    "a = []\n",
    "type(a)"
   ]
  },
  {
   "cell_type": "code",
   "execution_count": null,
   "metadata": {},
   "outputs": [],
   "source": [
    "x = ['apple', 'orange']\n",
    "print(x)"
   ]
  },
  {
   "cell_type": "markdown",
   "metadata": {},
   "source": [
    "```\n",
    "> Indexing: Indexing starts from 0 and can also be done in reverse order\n",
    "```"
   ]
  },
  {
   "cell_type": "code",
   "execution_count": null,
   "metadata": {},
   "outputs": [],
   "source": [
    "print(x[0])\n",
    "print(x[1])\n",
    "print(x[-1])\n",
    "print(x[-2])"
   ]
  },
  {
   "cell_type": "markdown",
   "metadata": {},
   "source": [
    "```\n",
    "> Lists can also be nested \n",
    "```"
   ]
  },
  {
   "cell_type": "code",
   "execution_count": 12,
   "metadata": {},
   "outputs": [],
   "source": [
    "x = [[1,2],[3,4]]"
   ]
  },
  {
   "cell_type": "code",
   "execution_count": null,
   "metadata": {},
   "outputs": [],
   "source": [
    "print(x[0])\n",
    "print(x[0][1])"
   ]
  },
  {
   "cell_type": "markdown",
   "metadata": {},
   "source": [
    "#### Slicing \n",
    "```\n",
    "> Slicing enables to access a sequence of data inside the list."
   ]
  },
  {
   "cell_type": "code",
   "execution_count": 15,
   "metadata": {},
   "outputs": [],
   "source": [
    "num = [0,1,1,2,3,4,5,6,7,8,9]"
   ]
  },
  {
   "cell_type": "code",
   "execution_count": null,
   "metadata": {},
   "outputs": [],
   "source": [
    "num[-1]"
   ]
  },
  {
   "cell_type": "code",
   "execution_count": null,
   "metadata": {},
   "outputs": [],
   "source": [
    "print(num[0:4])\n",
    "print(num[4:-1])\n",
    "print(num[:4])"
   ]
  },
  {
   "cell_type": "markdown",
   "metadata": {},
   "source": [
    "#### Build in list functions"
   ]
  },
  {
   "cell_type": "code",
   "execution_count": null,
   "metadata": {},
   "outputs": [],
   "source": [
    "len(num)"
   ]
  },
  {
   "cell_type": "code",
   "execution_count": null,
   "metadata": {},
   "outputs": [],
   "source": [
    "max(num)"
   ]
  },
  {
   "cell_type": "code",
   "execution_count": null,
   "metadata": {},
   "outputs": [],
   "source": [
    "min(num)"
   ]
  },
  {
   "cell_type": "code",
   "execution_count": null,
   "metadata": {},
   "outputs": [],
   "source": [
    "print(0 in num)\n",
    "print(100 in num)"
   ]
  },
  {
   "cell_type": "code",
   "execution_count": null,
   "metadata": {},
   "outputs": [],
   "source": [
    "num.append(10)\n",
    "num"
   ]
  },
  {
   "cell_type": "code",
   "execution_count": null,
   "metadata": {},
   "outputs": [],
   "source": [
    "num[0] = 1\n",
    "num"
   ]
  },
  {
   "cell_type": "code",
   "execution_count": null,
   "metadata": {},
   "outputs": [],
   "source": [
    "num.remove(1) # Removes only the first occurrence of the number 1\n",
    "num"
   ]
  },
  {
   "cell_type": "code",
   "execution_count": null,
   "metadata": {},
   "outputs": [],
   "source": [
    "num = [x for x in num if x != 1] # Removes all occurrences of the number 1\n",
    "num\n",
    "\n",
    "#for x in num: \n",
    "    #if x != 1:\n",
    "       # print(x)"
   ]
  },
  {
   "cell_type": "code",
   "execution_count": null,
   "metadata": {},
   "outputs": [],
   "source": [
    "element = num.pop(-1)  # Removes the element at index -1 and returns its value\n",
    "print(element)\n",
    "num"
   ]
  },
  {
   "cell_type": "markdown",
   "metadata": {},
   "source": [
    "### Your 2. Task\n",
    "```\n",
    "> Remove from the following list the element at index 5 and add it to the 2 index and append it to the end of the list \n",
    "```"
   ]
  },
  {
   "cell_type": "code",
   "execution_count": 2,
   "metadata": {},
   "outputs": [],
   "source": [
    "list= [11, 45, 8, 11, 23, 31, 23, 45, 89]\n",
    "\n",
    "# Write your code..."
   ]
  },
  {
   "cell_type": "markdown",
   "metadata": {},
   "source": [
    "### Strings\n",
    "Strings are ordered text based data which are represented by enclosing the same in single/double/triple quotes."
   ]
  },
  {
   "cell_type": "code",
   "execution_count": null,
   "metadata": {},
   "outputs": [],
   "source": [
    "text = 'Software Engineering ist super!'\n",
    "print(text)"
   ]
  },
  {
   "cell_type": "code",
   "execution_count": null,
   "metadata": {},
   "outputs": [],
   "source": [
    "print(text[:6])"
   ]
  },
  {
   "cell_type": "code",
   "execution_count": null,
   "metadata": {},
   "outputs": [],
   "source": [
    "print(text.find('!'))"
   ]
  },
  {
   "cell_type": "code",
   "execution_count": null,
   "metadata": {},
   "outputs": [],
   "source": [
    "print(text[13])"
   ]
  },
  {
   "cell_type": "code",
   "execution_count": null,
   "metadata": {},
   "outputs": [],
   "source": [
    "list = text.split(' ')\n",
    "print(list)"
   ]
  },
  {
   "cell_type": "markdown",
   "metadata": {},
   "source": [
    "```\n",
    "> There are more functions ...  \n",
    "```"
   ]
  },
  {
   "cell_type": "markdown",
   "metadata": {},
   "source": [
    "### Control Flow"
   ]
  },
  {
   "cell_type": "markdown",
   "metadata": {},
   "source": [
    "```\n",
    "> The Python syntax for conditional execution of code uses the keywords if, elif (else if), else:\n",
    "```"
   ]
  },
  {
   "cell_type": "code",
   "execution_count": null,
   "metadata": {},
   "outputs": [],
   "source": [
    "statement1 = False\n",
    "statement2 = False\n",
    "\n",
    "if statement1 == True:\n",
    "    print(\"Statement1 is True\")\n",
    "    \n",
    "elif statement2:\n",
    "    print(\"Statement2 is True\")\n",
    "    \n",
    "else:\n",
    "    print(\"Nothing is True\")"
   ]
  },
  {
   "cell_type": "markdown",
   "metadata": {},
   "source": [
    "```\n",
    "> Loops \n",
    "```"
   ]
  },
  {
   "cell_type": "code",
   "execution_count": null,
   "metadata": {},
   "outputs": [],
   "source": [
    "list = [1,3,5,7]\n",
    "\n",
    "for element in list: # x represents the value of each element\n",
    "    print(element)"
   ]
  },
  {
   "cell_type": "code",
   "execution_count": null,
   "metadata": {},
   "outputs": [],
   "source": [
    "for x in range(len(list)): # x represents the index of each element\n",
    "    print(x)"
   ]
  },
  {
   "cell_type": "code",
   "execution_count": null,
   "metadata": {},
   "outputs": [],
   "source": [
    "for x, y in enumerate(list): # x represents both index and value\n",
    "    print(x, y)"
   ]
  },
  {
   "cell_type": "code",
   "execution_count": null,
   "metadata": {},
   "outputs": [],
   "source": [
    "for x in range(5): # x represents the index of the element\n",
    "    print(x)"
   ]
  },
  {
   "cell_type": "code",
   "execution_count": null,
   "metadata": {},
   "outputs": [],
   "source": [
    "i = 0\n",
    "\n",
    "while i < 5:  # While loop iterating until i reaches 5\n",
    "    print(i)\n",
    "    i +=1\n",
    "    \n",
    "print(\"done\")"
   ]
  },
  {
   "cell_type": "markdown",
   "metadata": {},
   "source": [
    "### Functions"
   ]
  },
  {
   "cell_type": "code",
   "execution_count": null,
   "metadata": {},
   "outputs": [],
   "source": [
    "def square(x):\n",
    "    return x ** 2\n",
    "\n",
    "square(4)"
   ]
  },
  {
   "cell_type": "code",
   "execution_count": null,
   "metadata": {},
   "outputs": [],
   "source": [
    "def addition(x, y, printing=True):\n",
    "\n",
    "    sum = x + y\n",
    "\n",
    "    if printing:\n",
    "        print(sum)\n",
    "\n",
    "    return sum\n",
    "\n",
    "result = addition(5, 5)"
   ]
  },
  {
   "cell_type": "markdown",
   "metadata": {},
   "source": [
    "###  Your 3. Task\n",
    "```\n",
    "> Implement a method with two list of ints as arguments and creates a third list that should contain only odd numbers from the first list and even numbers from the second list.\n",
    "```"
   ]
  },
  {
   "cell_type": "code",
   "execution_count": null,
   "metadata": {},
   "outputs": [],
   "source": [
    "list_one = [10, 20, 23, 11, 17]\n",
    "list_two = [13, 43, 24, 36, 12]\n",
    "\n",
    "\n",
    "def merge_list(l_1, l_2):\n",
    "\n",
    "    # Write your code..."
   ]
  },
  {
   "cell_type": "markdown",
   "metadata": {},
   "source": [
    "### Classes"
   ]
  },
  {
   "cell_type": "markdown",
   "metadata": {},
   "source": [
    "Classes are the key features of object-oriented programming. In Python a class can contain attributes (variables) and methods (functions). A class is defined almost like a function, but using the class keyword, and the class definition usually contains a number of class method definitions (a function in a class). Each class method should have an argument `self` as its first argument. Some class method names have special meaning, for example:\n",
    "\n",
    "* `__init__`: The name of the method that is invoked when the object is first created.\n",
    "* `__str__`: A method that is invoked when a simple string representation of the class is needed, as for example when printed.\n"
   ]
  },
  {
   "cell_type": "code",
   "execution_count": 40,
   "metadata": {},
   "outputs": [],
   "source": [
    "class Point:\n",
    "    \n",
    "    def __init__(self, x, y): # Create a new Point at x, y\n",
    "        self.x = x\n",
    "        self.y = y\n",
    "        \n",
    "    def translate(self, dx, dy): # Translate the point by dx and dy in the x and y direction.\n",
    "        self.x += dx\n",
    "        self.y += dy\n",
    "        \n",
    "    def __str__(self): # String representation of the class\n",
    "        return (f'Point at {self.x}, {self.y}')"
   ]
  },
  {
   "cell_type": "code",
   "execution_count": null,
   "metadata": {},
   "outputs": [],
   "source": [
    "point = Point(10,5)\n",
    "print(point)"
   ]
  },
  {
   "cell_type": "code",
   "execution_count": null,
   "metadata": {},
   "outputs": [],
   "source": [
    "point.translate(1,1)\n",
    "print(point)"
   ]
  },
  {
   "cell_type": "code",
   "execution_count": null,
   "metadata": {},
   "outputs": [],
   "source": [
    "point.translate(-3,-5)\n",
    "print(point)"
   ]
  },
  {
   "cell_type": "markdown",
   "metadata": {},
   "source": [
    "### Modules\n",
    "\n",
    "One of the most important concepts in good programming is to reuse code and avoid repetitions. We can import the module mymodule into our Python program using import:"
   ]
  },
  {
   "cell_type": "code",
   "execution_count": null,
   "metadata": {},
   "outputs": [],
   "source": [
    "!pip install requests bs4 nltk"
   ]
  },
  {
   "cell_type": "code",
   "metadata": {
    "ExecuteTime": {
     "end_time": "2025-10-06T09:12:15.936857Z",
     "start_time": "2025-10-06T09:12:14.982491Z"
    }
   },
   "source": [
    "import requests\n",
    "from bs4 import BeautifulSoup\n",
    "import nltk"
   ],
   "outputs": [],
   "execution_count": 1
  },
  {
   "cell_type": "code",
   "metadata": {
    "ExecuteTime": {
     "end_time": "2025-10-06T09:15:47.458285Z",
     "start_time": "2025-10-06T09:15:47.455639Z"
    }
   },
   "source": [
    "def url_to_transcript(url):\n",
    "    page = requests.get(url).text\n",
    "    soup = BeautifulSoup(page, \"html.parser\")\n",
    "    #print(soup)\n",
    "    text = [p.text for p in soup.find_all('p')]\n",
    "    return \" \".join(text)"
   ],
   "outputs": [],
   "execution_count": 14
  },
  {
   "cell_type": "code",
   "metadata": {
    "ExecuteTime": {
     "end_time": "2025-10-06T09:15:49.135528Z",
     "start_time": "2025-10-06T09:15:48.845933Z"
    }
   },
   "source": [
    "# load a Churchill speach\n",
    "url = 'https://www.tagesschau.de'\n",
    "transcript = url_to_transcript(url)\n",
    "transcript"
   ],
   "outputs": [
    {
     "data": {
      "text/plain": [
       "'\\n                            Erst Anfang September hatte Präsident Macron ihn ernannt - jetzt ist der französische Premier Lecornu zurückgetreten. Seine Kabinettsliste sorgte für Ärger. Macron steht jetzt vor einer schwierigen Entscheidung.\\n                            mehr\\n \\n                                Aktuelle Meldungen, vertiefende Analysen und Interviews: Verfolgen Sie das Programm des ARD-Nachrichtenkanals tagesschau24 hier live.\\n                                mehr\\n \\n                            Außenminister Wadephul hofft auf ein Ende des Gaza-Kriegs. Im ARD-Interview sprach er über den \"Wendepunkt\", die deutsche Rolle und US-Präsident Trump. Auch zu dessen Ambitionen auf den Friedensnobelpreis äußerte sich Wadephul.\\n                            mehr\\n \\n\\nliveblog\\n\\n \\n                            Bislang ist unklar, wer für die Drohnenvorfälle der vergangenen Tage verantwortlich ist. Kanzler Merz vermutet allerdings Russland hinter vielen Flügen. Die Bedrohung komme von denen, \"die uns testen wollen\", sagte er bei Caren Miosga. \\n                            mehr\\n \\n                                Die Debatte über den Wehrdienst sorgt weiter für Ärger in der Koalition. Eigentlich soll die Bundeswehr personell zunächst über Freiwilligkeit stärker werden. Doch Kanzler Merz und CSU-Chef Söder zweifeln, dass das reicht.\\n                                mehr\\n \\n                                Finanzminister Klingbeil hat einige Tage vor dem \"Autogipfel\" im Kanzleramt eine erste Maßnahme angekündigt, um die Branche zu stützen: Die KfZ-Steuerbefreiung für E-Autos soll bis 2035 verlängert werden.\\n                                mehr\\n \\n                            US-Präsident Trump hat erneut eine juristische Niederlage erlitten: Eine Richterin verhinderte, dass die Nationalgarde in die Stadt Portland geschickt wird. Trump sieht dort \"Terroristen\" am Werk, lokale Politiker widersprechen.\\n                            mehr\\n \\n                                Am Mount Everest haben sich am Wochenende dramatische Szenen ereignet.\\xa0Fast 1.000 Bergsteiger gerieten in einen Blizzard und konnten sich nicht mehr aus den Schneemassen befreien. Etwa 350 Menschen wurden bislang gerettet.\\n                                mehr\\n \\n                                In Syrien wurde erstmals seit dem Sturz Assads das Parlament gewählt. Mit Ergebnissen wird in den kommenden Tagen gerechnet. Wirkliche Macht hat das Parlament nicht - soll aber eine wichtige Aufgabe übernehmen. Von Anna Osius.\\nmehr\\n \\n                            Verbraucherschützer wenden sich gegen ein mögliches Verbot von Bezeichnungen wie \"Soja-Schnitzel\" für vegane oder vegetarische Produkte. Am Mittwoch wird das Europaparlament darüber abstimmen. \\n                            mehr\\n \\n                                Gerade beim Thema Altersvorsorge wollen die meisten Deutschen vor allem Risiken vermeiden. Das schwedische Modell zeigt: Es geht auch anders - ohne dass dabei \"Zockerei\" im Spiel sein muss. Von L.-M. Hiltscher.\\nmehr\\n \\n                                Unter \"Habeck Live\" ist der Ex-Vizekanzler nun auf der Bühne des Berliner Ensembles: nicht mit einem Theaterstück, sondern mit Gesprächspartnern. Eine neue Hauptrolle sucht er trotzdem - zusammen mit Volker Wissing. Von Tina Handel.\\nmehr\\n \\n                                Auf den ersten Blick geht es um Fußball, malen\\xa0und singen, auf den zweiten Blick um\\xa0rechtsextreme Ideologie. 11KM über\\xa0den Einfluss der \"Grauen\\xa0Wölfe\"\\xa0auf türkischstämmige Kinder und Jugendliche\\xa0in Deutschland.\\n                                ardaudiothek\\n \\n                                Ein solches Spiel hat der HSV seit zwölf Jahren nicht erlebt: Vor allem dank Rayan Philippe schickte der Aufsteiger mit einem 4:0 Mainz 05 tief in den Tabellenkeller.\\n                                sportschau\\n \\n                                Der VfB Stuttgart gewinnt trotz einer über weite Strecken mauen Leistung knapp gegen den 1. FC Heidenheim und springt in der Bundesliga-Tabelle weit nach vorne.\\n                                sportschau\\n \\n\\nSendung\\n\\n05.10.2025 • 22:45 Uhr\\n \\n\\nVideo\\n\\n06.10.2025 • 10:30 Uhr\\n \\n\\nSendung\\n\\n05.10.2025 • 20:00 Uhr\\n \\n\\nSendung\\n\\n06.10.2025 • 10:40 Uhr\\n \\n\\nSendung\\n\\n02.10.2025 • 19:00 Uhr\\n \\n\\nSendung\\n\\n05.10.2025 • 20:00 Uhr\\n \\n\\n\\n \\n\\n\\n \\n\\n\\n\\nBilder\\n\\n \\n\\n\\n \\n\\n\\n \\n\\n\\n \\n\\n\\n \\n\\n\\n \\n\\n\\n \\n\\n\\n \\n                                Immer wieder nähern sich Drohnen kritischer Infrastruktur. Wie soll man reagieren? Im Bericht aus Berlin macht sich Bayerns Ministerpräsident Söder dafür stark, schnell die Voraussetzungen zum Abschuss zu schaffen.\\n                                mehr\\n \\n\\nanalyse\\n\\n \\n                                Ein hochrangiger Vertreter des Bundesinnenministeriums war nach ARD-Informationen vergangenen Mittwoch in Kabul. Dort soll unter anderem über die Rückführung von Straftätern aus Deutschland gesprochen worden sein. Von P. Hornung und P. Eckstein.\\nmehr\\n \\n\\nanalyse\\n\\n \\n                                Im Auftrag des russischen Militärgeheimdienstes GRU sollen 2024 Drohnenteile und mehrere SIM-Karten über Litauen und Polen nach Düsseldorf gebracht worden sein. Das berichtet die polnische Zeitung Wyborcza mit Bezug auf Sicherheitskreise.\\n                                mehr\\n \\n                                Die neu gewählte Verfassungsrichterin Kaufhold wurde auch zur Vizepräsidentin des Bundesverfassungsgerichts gewählt. Die AfD und einige Newsportale werfen ihr vor, eine linke Aktivistin zu sein. Doch an den Vorwürfen ist nichts dran. Von K. Hempel.\\nmehr\\n \\n                                Im Herbst und Winter ist sie zu sehen: die Andromedagalaxie. Was so hell ist wie ein normaler Stern, verbirgt eine ganze Sternenwelt. 2,5 Millionen Lichtjahre ist sie entfernt - kommt uns aber immer näher. Von Heike Westram.\\nmehr\\n \\n                                Seit Jahren verlieren die Kirchen Mitglieder, die Gebäude zu unterhalten wird stetig teurer. Gotteshäuser landen zum Verkauf auf Immobilienplattformen. Ideen, wie man sie gut nutzen kann, gibt es viele. Von Steffen Clement.\\nmehr\\n \\n\\nfaq\\n\\n \\n                            Es fehlt nicht mehr viel zu einem neuen Rekordhoch im DAX. Doch der Respekt der Anleger vor der historischen Marke ist groß - entsprechend vorsichtig fällt der DAX-Start in die neue Börsenwoche aus.\\n                            mehr\\n \\n                                Am Montag meist viele Wolken und verbreitet Regen oder Nieselregen. Im Nordosten zum Teil freundlich und nur örtlich Schauer, dort aber noch windig. 8 bis 17 Grad.\\n                                mehr\\n \\n10.08.2025 • 09:50 Uhr\\n \\n02.10.2025 • 07:57 Uhr\\n'"
      ]
     },
     "execution_count": 15,
     "metadata": {},
     "output_type": "execute_result"
    }
   ],
   "execution_count": 15
  },
  {
   "cell_type": "code",
   "metadata": {
    "ExecuteTime": {
     "end_time": "2025-10-06T09:15:52.678716Z",
     "start_time": "2025-10-06T09:15:52.675517Z"
    }
   },
   "source": [
    "# use lower case\n",
    "transcript = transcript.lower()\n",
    "transcript[102:300]"
   ],
   "outputs": [
    {
     "data": {
      "text/plain": [
       "'französische premier lecornu zurückgetreten. seine kabinettsliste sorgte für ärger. macron steht jetzt vor einer schwierigen entscheidung.\\n                            mehr\\n \\n                        '"
      ]
     },
     "execution_count": 16,
     "metadata": {},
     "output_type": "execute_result"
    }
   ],
   "execution_count": 16
  },
  {
   "cell_type": "code",
   "metadata": {
    "ExecuteTime": {
     "end_time": "2025-10-06T09:21:21.136475Z",
     "start_time": "2025-10-06T09:21:21.132844Z"
    }
   },
   "source": [
    "# tokenize for words\n",
    "word_tokens = [word for word in transcript.split()]\n",
    "word_tokens[1:21]"
   ],
   "outputs": [
    {
     "data": {
      "text/plain": [
       "['anfang',\n",
       " 'september',\n",
       " 'hatte',\n",
       " 'präsident',\n",
       " 'macron',\n",
       " 'ihn',\n",
       " 'ernannt',\n",
       " '-',\n",
       " 'jetzt',\n",
       " 'ist',\n",
       " 'der',\n",
       " 'französische',\n",
       " 'premier',\n",
       " 'lecornu',\n",
       " 'zurückgetreten.',\n",
       " 'seine',\n",
       " 'kabinettsliste',\n",
       " 'sorgte',\n",
       " 'für',\n",
       " 'ärger.']"
      ]
     },
     "execution_count": 25,
     "metadata": {},
     "output_type": "execute_result"
    }
   ],
   "execution_count": 25
  },
  {
   "cell_type": "markdown",
   "metadata": {},
   "source": [
    "# The End :)"
   ]
  }
 ],
 "metadata": {
  "kernelspec": {
   "display_name": "Python 3",
   "language": "python",
   "name": "python3"
  },
  "language_info": {
   "codemirror_mode": {
    "name": "ipython",
    "version": 3
   },
   "file_extension": ".py",
   "mimetype": "text/x-python",
   "name": "python",
   "nbconvert_exporter": "python",
   "pygments_lexer": "ipython3",
   "version": "3.12.10"
  }
 },
 "nbformat": 4,
 "nbformat_minor": 4
}
